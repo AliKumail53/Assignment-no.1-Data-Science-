{
 "cells": [
  {
   "cell_type": "markdown",
   "id": "d20cced2",
   "metadata": {},
   "source": [
    "# Question no. 1"
   ]
  },
  {
   "cell_type": "code",
   "execution_count": 1,
   "id": "db1a3e27",
   "metadata": {},
   "outputs": [
    {
     "name": "stdout",
     "output_type": "stream",
     "text": [
      "\n",
      "            Twinkle, twinkle little star\n",
      "                     How I wonder what you are!\n",
      "                             Up above the world so high, \n",
      "                             Like a diamond in the sky.\n",
      "            Twinkle, twinkle little star\n",
      "                     How I wonder what you are\n",
      "                                                \n"
     ]
    }
   ],
   "source": [
    "print(\n",
    "        '''\n",
    "            Twinkle, twinkle little star\n",
    "                     How I wonder what you are!\n",
    "                             Up above the world so high, \n",
    "                             Like a diamond in the sky.\n",
    "            Twinkle, twinkle little star\n",
    "                     How I wonder what you are\n",
    "                                                ''')"
   ]
  },
  {
   "cell_type": "markdown",
   "id": "1d030140",
   "metadata": {},
   "source": [
    "# Question no.2"
   ]
  },
  {
   "cell_type": "code",
   "execution_count": 5,
   "id": "f47d938f",
   "metadata": {},
   "outputs": [
    {
     "name": "stdout",
     "output_type": "stream",
     "text": [
      "PYTHON VERSION: \n",
      "3.8.8 (default, Apr 13 2021, 15:08:03) [MSC v.1916 64 bit (AMD64)]\n",
      "PYTHON INFO: \n",
      "sys.version_info(major=3, minor=8, micro=8, releaselevel='final', serial=0)\n"
     ]
    }
   ],
   "source": [
    "import sys\n",
    "\n",
    "print(\"PYTHON VERSION: \")\n",
    "print(sys.version)\n",
    "\n",
    "print(\"PYTHON INFO: \")\n",
    "print(sys.version_info)\n"
   ]
  },
  {
   "cell_type": "markdown",
   "id": "e150fd5d",
   "metadata": {},
   "source": [
    "# Question no.3"
   ]
  },
  {
   "cell_type": "code",
   "execution_count": 11,
   "id": "316e5337",
   "metadata": {},
   "outputs": [
    {
     "name": "stdout",
     "output_type": "stream",
     "text": [
      "CURRENT DATE AND TIME 📆: \n",
      "Date: 30/12/21 \n",
      "Time: 10:19:17\n"
     ]
    }
   ],
   "source": [
    "import datetime\n",
    "\n",
    "print(\"CURRENT DATE AND TIME 📆: \")\n",
    "x = datetime.datetime.now()\n",
    "print(x.strftime(\"Date: %d/%m/%y \\nTime: %H:%M:%S\"))\n",
    "\n"
   ]
  },
  {
   "cell_type": "markdown",
   "id": "ba1a5d19",
   "metadata": {},
   "source": [
    "# Question no.4"
   ]
  },
  {
   "cell_type": "code",
   "execution_count": 24,
   "id": "471b2564",
   "metadata": {},
   "outputs": [
    {
     "name": "stdout",
     "output_type": "stream",
     "text": [
      "Enter the radius of a circle ⚪:  5\n",
      "The Area of the circle is  78.5\n"
     ]
    }
   ],
   "source": [
    "\n",
    "Radius = float(input(\"Enter the radius of a circle ⚪: \"))\n",
    "Area = 3.14 * (Radius ** 2)\n",
    "print(\"The Area of the circle is \", Area)\n"
   ]
  },
  {
   "cell_type": "markdown",
   "id": "3ef59d66",
   "metadata": {},
   "source": [
    "# Question no.5"
   ]
  },
  {
   "cell_type": "code",
   "execution_count": 20,
   "id": "7ab92cf5",
   "metadata": {},
   "outputs": [
    {
     "name": "stdout",
     "output_type": "stream",
     "text": [
      "Enter Your First Name:  Ali\n",
      "Enter Your Last Name:  Kumail\n",
      " Kumail  Ali\n"
     ]
    }
   ],
   "source": [
    "first_name = input(\"Enter Your First Name: \")\n",
    "last_name = input(\"Enter Your Last Name: \")\n",
    "print(last_name + \" \" + first_name)\n"
   ]
  },
  {
   "cell_type": "markdown",
   "id": "db039a6d",
   "metadata": {},
   "source": [
    "# Question no.6"
   ]
  },
  {
   "cell_type": "code",
   "execution_count": 22,
   "id": "168b8cbf",
   "metadata": {},
   "outputs": [
    {
     "name": "stdout",
     "output_type": "stream",
     "text": [
      "Enter the first integer:  23\n",
      "Enter the second integer:  54\n",
      "The sum is  77\n"
     ]
    }
   ],
   "source": [
    "one = int(input(\"Enter the first integer: \"))\n",
    "two = int(input(\"Enter the second integer: \"))\n",
    "total = one + two \n",
    "print(\"The sum is \", total)\n"
   ]
  }
 ],
 "metadata": {
  "kernelspec": {
   "display_name": "Python 3",
   "language": "python",
   "name": "python3"
  },
  "language_info": {
   "codemirror_mode": {
    "name": "ipython",
    "version": 3
   },
   "file_extension": ".py",
   "mimetype": "text/x-python",
   "name": "python",
   "nbconvert_exporter": "python",
   "pygments_lexer": "ipython3",
   "version": "3.8.8"
  }
 },
 "nbformat": 4,
 "nbformat_minor": 5
}
